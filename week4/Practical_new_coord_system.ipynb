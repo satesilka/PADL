{
  "nbformat": 4,
  "nbformat_minor": 0,
  "metadata": {
    "colab": {
      "provenance": []
    },
    "kernelspec": {
      "name": "python3",
      "display_name": "Python 3"
    },
    "language_info": {
      "name": "python"
    }
  },
  "cells": [
    {
      "cell_type": "markdown",
      "source": [
        "## Manually rotating the coordinate system of our data\n"
      ],
      "metadata": {
        "id": "8dvg-OxtN7MA"
      }
    },
    {
      "cell_type": "code",
      "execution_count": 1,
      "metadata": {
        "id": "hCv4a_XY4B7t"
      },
      "outputs": [],
      "source": [
        "import scipy as sp\n",
        "import numpy as np\n",
        "from scipy.stats import ortho_group"
      ]
    },
    {
      "cell_type": "markdown",
      "source": [
        "Generate a new coordinate system, i.e. a set of N orthonormal vectors (orthogonal vectors of magnitude 1).\n",
        "\n",
        "Here N = 7, random_state is set to guarantee same results on all runs."
      ],
      "metadata": {
        "id": "47ct3IqRPGMi"
      }
    },
    {
      "cell_type": "code",
      "source": [
        "m = ortho_group.rvs(dim=7, random_state=17)\n",
        "print(m.shape)\n",
        "print(m.round(decimals=4))"
      ],
      "metadata": {
        "colab": {
          "base_uri": "https://localhost:8080/"
        },
        "id": "uLERth9i5BPw",
        "outputId": "45bed140-83c5-4214-fd21-dacc25204f25"
      },
      "execution_count": 2,
      "outputs": [
        {
          "output_type": "stream",
          "name": "stdout",
          "text": [
            "(7, 7)\n",
            "[[ 0.1621 -0.646  -0.1443  0.2816  0.2061  0.5549  0.3253]\n",
            " [-0.2124  0.0144 -0.2472  0.8678 -0.1595 -0.3348 -0.0542]\n",
            " [ 0.3167 -0.5881  0.334  -0.0916 -0.3028 -0.5793  0.0816]\n",
            " [ 0.6051  0.2927 -0.1234  0.1116  0.5764 -0.3142  0.2992]\n",
            " [-0.4431  0.0445  0.7259  0.1691  0.3723 -0.0445  0.3248]\n",
            " [ 0.5102  0.3028  0.4895  0.3287 -0.374   0.379  -0.1299]\n",
            " [ 0.0744 -0.2392  0.1573  0.1009  0.4791 -0.0077 -0.8202]]\n"
          ]
        }
      ]
    },
    {
      "cell_type": "code",
      "source": [
        "X = np.loadtxt('sqisland.csv',delimiter=',',skiprows=1, usecols=range(2,9))\n",
        "print(\"Shape of X: \", X.shape)\n",
        "print(\"First 5 observations/datapoints/rows of X: \\n\", X[:5,:].round(decimals=4))\n"
      ],
      "metadata": {
        "colab": {
          "base_uri": "https://localhost:8080/"
        },
        "id": "aUsH6juq71af",
        "outputId": "c6cb9720-5b0c-4600-86dd-f9dfc8a580c2"
      },
      "execution_count": 6,
      "outputs": [
        {
          "output_type": "stream",
          "name": "stdout",
          "text": [
            "Shape of X:  (100, 7)\n",
            "First 5 observations/datapoints/rows of X: \n",
            " [[1.     0.     0.2    0.8    0.522  0.1594 0.3185]\n",
            " [0.7937 0.2063 0.196  0.804  0.3927 0.2616 0.3457]\n",
            " [0.8064 0.1936 0.198  0.802  0.379  0.2765 0.3445]\n",
            " [0.8133 0.1867 0.2    0.8    0.5184 0.1489 0.3327]\n",
            " [0.7575 0.2425 0.182  0.818  0.2444 0.287  0.4686]]\n"
          ]
        }
      ]
    },
    {
      "cell_type": "markdown",
      "source": [
        "Now let's 'rotate' the data, i.e.  project all data points onto the new coordinate system. It's done by simply multiplying the data matrix X by the matrix **m** where each column vector represents the orientation of one of the new axes."
      ],
      "metadata": {
        "id": "1jizg1LfSr33"
      }
    },
    {
      "cell_type": "code",
      "source": [
        "newX = np.matmul(X,m)\n",
        "print(newX.shape)\n",
        "print(newX[:5,:].round(decimals=4))"
      ],
      "metadata": {
        "colab": {
          "base_uri": "https://localhost:8080/"
        },
        "id": "PcW0xQ8VRmQY",
        "outputId": "16d1dc09-a88a-4579-bb36-8be725421247"
      },
      "execution_count": 7,
      "outputs": [
        {
          "output_type": "stream",
          "name": "stdout",
          "text": [
            "(100, 7)\n",
            "[[ 0.5832 -0.5342  0.3309  0.5253  0.8941  0.2224  0.4686]\n",
            " [ 0.6185 -0.3758  0.2682  0.6615  0.7488  0.0842  0.3136]\n",
            " [ 0.6363 -0.3817  0.2676  0.6561  0.7404  0.1012  0.3126]\n",
            " [ 0.5106 -0.4177  0.3061  0.6321  0.8352  0.0524  0.3863]\n",
            " [ 0.6968 -0.3679  0.1822  0.6812  0.7421  0.071   0.1507]]\n"
          ]
        }
      ]
    },
    {
      "cell_type": "code",
      "source": [
        "# Save the result (which does not include the first 2 columns of sqisland.csv containing the location coordinates).\n",
        "np.savetxt(\"newDataMatrix.csv\", newX, delimiter=\",\")"
      ],
      "metadata": {
        "id": "Ti8krxNg82D8"
      },
      "execution_count": 8,
      "outputs": []
    },
    {
      "cell_type": "markdown",
      "source": [
        "Check what happens when you rotate newX back (by multiplying by the inverse of **m**)."
      ],
      "metadata": {
        "id": "ImkZkB2MVn1d"
      }
    },
    {
      "cell_type": "code",
      "source": [
        "m_inv = np.linalg.inv(m)\n",
        "there_and_back_X = np.matmul(newX,m_inv)\n",
        "print(there_and_back_X.shape)\n",
        "print(there_and_back_X[:5,:].round(decimals=4))"
      ],
      "metadata": {
        "colab": {
          "base_uri": "https://localhost:8080/"
        },
        "id": "ikja-jaoYi9L",
        "outputId": "8da8c290-4685-4baa-de3b-1603bb0d27be"
      },
      "execution_count": 9,
      "outputs": [
        {
          "output_type": "stream",
          "name": "stdout",
          "text": [
            "(100, 7)\n",
            "[[1.     0.     0.2    0.8    0.522  0.1594 0.3185]\n",
            " [0.7937 0.2063 0.196  0.804  0.3927 0.2616 0.3457]\n",
            " [0.8064 0.1936 0.198  0.802  0.379  0.2765 0.3445]\n",
            " [0.8133 0.1867 0.2    0.8    0.5184 0.1489 0.3327]\n",
            " [0.7575 0.2425 0.182  0.818  0.2444 0.287  0.4686]]\n"
          ]
        }
      ]
    },
    {
      "cell_type": "markdown",
      "source": [
        "The 'there-and-back' matrix is equivalent to the original matrix X (bar some rounding errors)."
      ],
      "metadata": {
        "id": "LyGQNbP3WiMU"
      }
    }
  ]
}