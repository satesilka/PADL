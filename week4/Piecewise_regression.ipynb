{
  "nbformat": 4,
  "nbformat_minor": 0,
  "metadata": {
    "kernelspec": {
      "display_name": "Python 3",
      "language": "python",
      "name": "python3"
    },
    "language_info": {
      "codemirror_mode": {
        "name": "ipython",
        "version": 3
      },
      "file_extension": ".py",
      "mimetype": "text/x-python",
      "name": "python",
      "nbconvert_exporter": "python",
      "pygments_lexer": "ipython3",
      "version": "3.9.7"
    },
    "colab": {
      "provenance": [],
      "collapsed_sections": [
        "9pN_ALtB64XJ",
        "TYi4HleJ64XO"
      ]
    }
  },
  "cells": [
    {
      "cell_type": "markdown",
      "metadata": {
        "id": "ILH6_zA1axWd"
      },
      "source": [
        "<h1>Piecewise linear regression and cubic splines</h1>\n",
        "\n"
      ]
    },
    {
      "cell_type": "markdown",
      "metadata": {
        "id": "uEFKMn0tpd_M"
      },
      "source": [
        "<h2>1. Continuous piecewise linear regression (CPLR)</h2>\n",
        "\n",
        "Compare with bottom-left of Fig.5.1 on p.142, Hastie et al., 2nd ed.\n",
        "\n",
        "https://link-springer-com.libproxy.york.ac.uk/content/pdf/10.1007%2F978-0-387-84858-7.pdf\n"
      ]
    },
    {
      "cell_type": "code",
      "metadata": {
        "colab": {
          "base_uri": "https://localhost:8080/",
          "height": 368
        },
        "id": "m1yF7UAc_as3",
        "outputId": "61b21b8f-0696-4fea-86e9-5a86a0a350b6"
      },
      "source": [
        "from scipy import optimize\n",
        "import matplotlib.pyplot as plt\n",
        "import numpy as np\n",
        "\n",
        "x = np.array([1, 2, 3, 4, 5, 6, 7, 8, 9, 10 ,11, 12, 13, 14, 15], dtype=float)\n",
        "y = np.array([5, 7, 9, 11, 13, 15, 28.92, 42.81, 56.7, 70.59, 84.47, 98.36, 112.25, 126.14, 140.03])\n",
        "\n",
        "def piecewise_linear(x, x0, y0, k1, k2):\n",
        "    # look up numpy.piecewise\n",
        "    return np.piecewise(x, [x < x0, x >= x0], [lambda x:k1*x + y0-k1*x0, lambda x:k2*x + y0-k2*x0])\n",
        "\n",
        "# https://docs.scipy.org/doc/scipy/reference/generated/scipy.optimize.curve_fit.html\n",
        "# x0, y0, k1 and k2 in piecewise_linear are optimised to minimise nonlinear\n",
        "# least squares.\n",
        "p , e = optimize.curve_fit(piecewise_linear, x, y)\n",
        "xd = np.linspace(1, 15, 100)\n",
        "plt.plot(x, y, \"o\")\n",
        "plt.plot(xd, piecewise_linear(xd, *p))\n",
        "\n",
        "print(\"breakpoint = (%.2f,%.2f)\"% (p[0],p[1]))\n",
        "intercept1=p[1]-p[2]*p[0]\n",
        "intercept2=p[1]-p[3]*p[0]\n",
        "print(\"\\n y = %.2f*x+ %.2f, x < %.2f\" % (p[2],intercept1,p[0]))\n",
        "print(\"\\n y = %.2f*x+ %.2f, x >= %.2f\\n\" % (p[3],intercept2,p[0]))"
      ],
      "execution_count": null,
      "outputs": [
        {
          "output_type": "stream",
          "name": "stdout",
          "text": [
            "breakpoint = (6.00,15.00)\n",
            "\n",
            " y = 2.00*x+ 3.00, x < 6.00\n",
            "\n",
            " y = 13.89*x+ -68.32, x >= 6.00\n",
            "\n"
          ]
        },
        {
          "output_type": "display_data",
          "data": {
            "image/png": "[encoded data removed]",
            "text/plain": [
              "<Figure size 432x288 with 1 Axes>"
            ]
          },
          "metadata": {
            "needs_background": "light"
          }
        }
      ]
    },
    {
      "cell_type": "markdown",
      "metadata": {
        "id": "ynvK363Bp0XI"
      },
      "source": [
        "Of course, one can take each of the two intervals and try to split it further. You can try modifying the above code"
      ]
    },
    {
      "cell_type": "markdown",
      "metadata": {
        "id": "5UZeWaF6qFHA"
      },
      "source": [
        "\n",
        "\n",
        "---\n",
        "\n"
      ]
    },
    {
      "cell_type": "markdown",
      "metadata": {
        "id": "-_9FAefjjVrh"
      },
      "source": [
        "<h2>CPLR example with a fixed number of breakpoints (n >=2)</h2>\n",
        "\n",
        "(Sensitive to the initial conditions - it won't always converge!)\n",
        "\n",
        "\n",
        "\n",
        "\n",
        "\n"
      ]
    },
    {
      "cell_type": "code",
      "metadata": {
        "id": "clOuAXll1MUm"
      },
      "source": [
        "# [1]: Muggeo, V.M.(2003). Estimating regression models with unknown breakpoints.\n",
        "# Statistics in medicine, 22(19), 3055-3071.\n",
        "# Code by https://datascience.stackexchange.com/users/53362/xdze2\n",
        "import numpy as np\n",
        "from numpy.linalg import lstsq\n",
        "\n",
        "ramp = lambda u: np.maximum( u, 0 )\n",
        "step = lambda u: ( u > 0 ).astype(float)\n",
        "\n",
        "def SegmentedLinearReg( X, Y, breakpoints ):\n",
        "    nIterationMax = 10\n",
        "\n",
        "    breakpoints = np.sort( np.array(breakpoints) )\n",
        "\n",
        "    dt = np.min( np.diff(X) )\n",
        "    ones = np.ones_like(X)\n",
        "\n",
        "    for i in range( nIterationMax ):\n",
        "        # Linear regression:  solve A*p = Y\n",
        "        Rk = [ramp( X - xk ) for xk in breakpoints ]\n",
        "        Sk = [step( X - xk ) for xk in breakpoints ]\n",
        "        A = np.array([ ones, X ] + Rk + Sk )\n",
        "        p =  lstsq(A.transpose(), Y, rcond=None)[0]\n",
        "\n",
        "        # Parameters identification:\n",
        "        a, b = p[0:2]\n",
        "        ck = p[ 2:2+len(breakpoints) ]\n",
        "        dk = p[ 2+len(breakpoints): ]\n",
        "\n",
        "        # Estimation of the next break-points:\n",
        "        newBreakpoints = breakpoints - dk/ck\n",
        "\n",
        "        # Stop condition\n",
        "        if np.max(np.abs(newBreakpoints - breakpoints)) < dt/5:\n",
        "            break\n",
        "\n",
        "        breakpoints = newBreakpoints\n",
        "    else:\n",
        "        print( 'maximum iteration reached' )\n",
        "\n",
        "    # Compute the final segmented fit:\n",
        "    Xsolution = np.insert( np.append( breakpoints, max(X) ), 0, min(X) )\n",
        "    ones =  np.ones_like(Xsolution)\n",
        "    Rk = [ c*ramp( Xsolution - x0 ) for x0, c in zip(breakpoints, ck) ]\n",
        "\n",
        "    Ysolution = a*ones + b*Xsolution + np.sum( Rk, axis=0 )\n",
        "\n",
        "    return Xsolution, Ysolution\n"
      ],
      "execution_count": null,
      "outputs": []
    },
    {
      "cell_type": "markdown",
      "metadata": {
        "id": "3yYL1htF9hL0"
      },
      "source": [
        "Now run the actual example and experiment with a different number of breakpoints (also known as *knots*), and with different initial positions."
      ]
    },
    {
      "cell_type": "code",
      "metadata": {
        "colab": {
          "base_uri": "https://localhost:8080/",
          "height": 279
        },
        "id": "KsZPfEl81OZS",
        "outputId": "999b2a75-def2-41d8-fedf-ce5387c81fe9"
      },
      "source": [
        "import matplotlib.pyplot as plt\n",
        "\n",
        "X = np.linspace( 0, 10, 27 )\n",
        "Y = 0.2*X  - 0.3* ramp(X-2) + 0.3*ramp(X-6) + 0.05*np.random.randn(len(X))\n",
        "plt.plot( X, Y, 'ok' );\n",
        "\n",
        "initialBreakpoints = [1,7]\n",
        "#Try also with 3 breakpoints, e.g. [3,5,6]\n",
        "plt.plot( *SegmentedLinearReg( X, Y, initialBreakpoints ), '-r' );\n",
        "plt.xlabel('X'); plt.ylabel('Y');"
      ],
      "execution_count": null,
      "outputs": [
        {
          "output_type": "display_data",
          "data": {
            "image/png": "[encoded data removed]",
            "text/plain": [
              "<Figure size 432x288 with 1 Axes>"
            ]
          },
          "metadata": {
            "needs_background": "light"
          }
        }
      ]
    },
    {
      "cell_type": "markdown",
      "metadata": {
        "id": "uNKkVE0m91D6"
      },
      "source": [
        "\n",
        "\n",
        "---\n",
        "\n"
      ]
    },
    {
      "cell_type": "markdown",
      "metadata": {
        "id": "9pN_ALtB64XJ"
      },
      "source": [
        "\n",
        "# Spline interpolation\n",
        "\n",
        "This example demonstrates how to approximate a function with polynomials up to\n",
        "degree ``degree`` by using ridge regression. Given\n",
        "``n_samples`` of 1d points ``x_i``:\n",
        "\n",
        "\n",
        "- :class:`~sklearn.preprocessing.SplineTransformer` generates B-spline basis\n",
        "  functions. A basis function of a B-spline is a piece-wise polynomial function\n",
        "  of degree ``degree`` that is non-zero only between ``degree+1`` consecutive\n",
        "  knots. Given ``n_knots`` number of knots, this results in matrix of\n",
        "  ``n_samples`` rows and ``n_knots + degree - 1`` columns::\n",
        "\n",
        "    [[basis_1(x_0), basis_2(x_0), ...],\n",
        "     [basis_1(x_1), basis_2(x_1), ...],\n",
        "     ...]\n",
        "\n",
        "This example shows that this transformer is well suited to model\n",
        "non-linear effects with a linear model, using a pipeline to add non-linear\n",
        "features.\n"
      ]
    },
    {
      "cell_type": "code",
      "metadata": {
        "id": "F39Mi7br64XJ"
      },
      "source": [
        "%matplotlib inline"
      ],
      "execution_count": null,
      "outputs": []
    },
    {
      "cell_type": "code",
      "metadata": {
        "id": "I3Uf0Q2R64XL"
      },
      "source": [
        "# Edited from the original: https://scikit-learn.org/stable/auto_examples/linear_model/plot_polynomial_interpolation.html\n",
        "# Author: Mathieu Blondel\n",
        "#         Jake Vanderplas\n",
        "#         Christian Lorentzen\n",
        "#         Malte Londschien\n",
        "# License: BSD 3 clause\n",
        "\n",
        "import numpy as np\n",
        "import matplotlib.pyplot as plt\n",
        "\n",
        "from sklearn.linear_model import Ridge\n",
        "from sklearn.preprocessing import SplineTransformer\n",
        "from sklearn.pipeline import make_pipeline"
      ],
      "execution_count": null,
      "outputs": []
    },
    {
      "cell_type": "markdown",
      "metadata": {
        "id": "Xs_QXF2a64XL"
      },
      "source": [
        "We start by defining a function that we intend to approximate and prepare:\n",
        "\n"
      ]
    },
    {
      "cell_type": "code",
      "metadata": {
        "id": "FHpKH7wk64XM"
      },
      "source": [
        "def f(x):\n",
        "    \"\"\"Function to be approximated by polynomial interpolation.\"\"\"\n",
        "    return x * np.sin(x)\n",
        "\n",
        "\n",
        "# whole range we want to plot\n",
        "x_plot = np.linspace(-1, 11, 100)"
      ],
      "execution_count": null,
      "outputs": []
    },
    {
      "cell_type": "markdown",
      "metadata": {
        "id": "z_5tVYNO64XM"
      },
      "source": [
        "To make it interesting, we only give a small subset of points to train on.\n",
        "\n"
      ]
    },
    {
      "cell_type": "code",
      "metadata": {
        "id": "5F4lk5fg64XM"
      },
      "source": [
        "x_train = np.linspace(0, 10, 100)\n",
        "rng = np.random.RandomState(0)\n",
        "x_train = np.sort(rng.choice(x_train, size=20, replace=False))\n",
        "y_train = f(x_train)\n",
        "\n",
        "# create 2D-array versions of these arrays to feed to transformers\n",
        "X_train = x_train[:, np.newaxis]\n",
        "X_plot = x_plot[:, np.newaxis]"
      ],
      "execution_count": null,
      "outputs": []
    },
    {
      "cell_type": "markdown",
      "metadata": {
        "id": "EUD8zrI664XN"
      },
      "source": [
        "Now we are ready to create splines, fit on the\n",
        "training points and show how well they interpolate.\n",
        "\n"
      ]
    },
    {
      "cell_type": "code",
      "metadata": {
        "colab": {
          "base_uri": "https://localhost:8080/",
          "height": 269
        },
        "id": "849JUwZc64XN",
        "outputId": "3afc3ee2-31e1-442b-8ff6-0152a4c58506"
      },
      "source": [
        "# plot function\n",
        "lw = 2\n",
        "fig, ax = plt.subplots()\n",
        "ax.set_prop_cycle(\n",
        "    color=[\"black\", \"teal\", \"yellowgreen\", \"gold\", \"darkorange\", \"tomato\"]\n",
        ")\n",
        "ax.plot(x_plot, f(x_plot), linewidth=lw, label=\"ground truth\")\n",
        "\n",
        "# plot training points\n",
        "ax.scatter(x_train, y_train, label=\"training points\")\n",
        "\n",
        "# B-spline with 4 + 3 - 1 = 6 basis functions\n",
        "model = make_pipeline(SplineTransformer(n_knots=4, degree=3), Ridge(alpha=1e-3))\n",
        "model.fit(X_train, y_train)\n",
        "\n",
        "y_plot = model.predict(X_plot)\n",
        "ax.plot(x_plot, y_plot, label=\"B-spline\")\n",
        "ax.legend(loc=\"lower center\")\n",
        "ax.set_ylim(-20, 10)\n",
        "plt.show()"
      ],
      "execution_count": null,
      "outputs": [
        {
          "output_type": "display_data",
          "data": {
            "image/png": "[encoded data removed]",
            "text/plain": [
              "<Figure size 432x288 with 1 Axes>"
            ]
          },
          "metadata": {
            "needs_background": "light"
          }
        }
      ]
    },
    {
      "cell_type": "markdown",
      "metadata": {
        "id": "W4Ch0-1B64XO"
      },
      "source": [
        "Higher degree polynomials may fit the data better. At the same time, too high powers can show unwanted oscillatory behaviour and are particularly dangerous for extrapolation beyond the range of fitted data. The advantage of B-splines is that they usually fit the data as well as polynomials and show very nice and smooth behaviour. They have also good options to control the extrapolation, which defaults to continue with a constant. Note that most often, you would rather increase the number of knots but keep ``degree=3``.\n",
        "\n",
        "In order to give more insights into the generated feature bases, we plot the splines separately.\n",
        "\n"
      ]
    },
    {
      "cell_type": "code",
      "metadata": {
        "colab": {
          "base_uri": "https://localhost:8080/",
          "height": 281
        },
        "id": "0xw-4CB464XO",
        "outputId": "14d458c5-a9ae-456e-ccc7-771ef58b2427"
      },
      "source": [
        "fig, ax = plt.subplots()\n",
        "splt = SplineTransformer(n_knots=4, degree=3).fit(X_train)\n",
        "ax.plot(x_plot, splt.transform(X_plot))\n",
        "ax.legend(ax.lines, [f\"spline {n}\" for n in range(6)])\n",
        "ax.set_title(\"SplineTransformer\")\n",
        "\n",
        "# plot knots of spline\n",
        "knots = splt.bsplines_[0].t\n",
        "ax.vlines(knots[3:-3], ymin=0, ymax=0.8, linestyles=\"dashed\")\n",
        "plt.show()"
      ],
      "execution_count": null,
      "outputs": [
        {
          "output_type": "display_data",
          "data": {
            "image/png": "[encoded data removed]",
            "text/plain": [
              "<Figure size 432x288 with 1 Axes>"
            ]
          },
          "metadata": {
            "needs_background": "light"
          }
        }
      ]
    },
    {
      "cell_type": "markdown",
      "metadata": {
        "id": "kmzVQccu64XO"
      },
      "source": [
        "In the figure, we see the six B-spline basis functions of ``degree=3``\n",
        "and also the four knot positions that were chosen during ``fit``.\n",
        "Every basis function has local support and is continued as a constant beyond the fitted range. This extrapolating behaviour could be changed by the argument ``extrapolation``.\n",
        "\n"
      ]
    }
  ]
}