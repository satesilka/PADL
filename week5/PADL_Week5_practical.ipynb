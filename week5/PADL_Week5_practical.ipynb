{
  "nbformat": 4,
  "nbformat_minor": 0,
  "metadata": {
    "colab": {
      "provenance": []
    },
    "kernelspec": {
      "name": "python3",
      "display_name": "Python 3"
    }
  },
  "cells": [
    {
      "cell_type": "markdown",
      "metadata": {
        "id": "CMYN-oGrin2f"
      },
      "source": [
        "#PADL Week 5 Practical: Logistic Regression"
      ]
    },
    {
      "cell_type": "markdown",
      "metadata": {
        "id": "oXpBjnccCaeB"
      },
      "source": [
        "##Logistic regression with scikit-learn"
      ]
    },
    {
      "cell_type": "markdown",
      "metadata": {
        "id": "6myqPpcch7Ot"
      },
      "source": [
        "**Initial reading:**\n",
        "\n",
        "Reading and understanding the scikit-learn examples on logistic regression is a good way to get started. There are no fewer than 5 examples given in the [logistic regression section](https://scikit-learn.org/stable/modules/linear_model.html#logistic-regression) of the scikit-learn User manual. Feel free to look at all five but for sure look at the first two: L1 Penalty and Sparsity in Logistic Regression and Regularization path of L1- Logistic Regression. You will see that by default scikit-learn uses an L2 penalty (like in ridge regression) but it is also possible to use an\n",
        "L1 penalty (like in lasso regression). Built-in cross-validation support for choosing the ‘right’ value for the complexity parameter is also available via the [LogisticRegressionCV class](https://scikit-learn.org/stable/modules/generated/sklearn.linear_model.LogisticRegressionCV.html)."
      ]
    },
    {
      "cell_type": "markdown",
      "metadata": {
        "id": "-f0mfY66i3od"
      },
      "source": [
        "**Diagnosing breast cancer:**\n",
        "\n",
        "Go to the Breast Cancer Wisconsin (Diagnostic) data set [webpage](https://archive.ics.uci.edu/ml/datasets/Breast+Cancer+Wisconsin+(Diagnostic)). If you click on the ‘Data Folder’ link near the top of the page, then you will be able to get the data. It is the file [breast-cancer-wisconsin.data](https://archive.ics.uci.edu/ml/machine-learning-databases/breast-cancer-wisconsin/). You can either upload this to the session storage for your colab notebook (but it will be lost each time your session times out, although you can add `!wget -q https://archive.ics.uci.edu/ml/machine-learning-databases/breast-cancer-wisconsin/breast-cancer-wisconsin.data` to your script to automatically download to session storage each time it runs - as done below) or you can mount a google drive folder and store the file there.\n",
        "\n",
        "To save you hassle of working out how to get this data into a Python program is some code to read this data in, and then remove any datapoints containing missing values:"
      ]
    },
    {
      "cell_type": "code",
      "metadata": {
        "id": "Av-3BYxA_6an",
        "colab": {
          "base_uri": "https://localhost:8080/"
        },
        "outputId": "aacb9e54-422a-4734-c637-2ff94ee256a0"
      },
      "source": [
        "!wget -q https://archive.ics.uci.edu/ml/machine-learning-databases/breast-cancer-wisconsin/breast-cancer-wisconsin.data\n",
        "\n",
        "import numpy as np\n",
        "from sklearn.linear_model import LogisticRegression\n",
        "\n",
        "data = np.genfromtxt('breast-cancer-wisconsin.data',delimiter=',',missing_values='?')\n",
        "data = data[~np.isnan(data).any(axis=1)]\n",
        "X = data[:,1:-1] # ignore first column and omit class variable at the end\n",
        "y = data[:,-1]\n",
        "X.shape"
      ],
      "execution_count": 2,
      "outputs": [
        {
          "output_type": "execute_result",
          "data": {
            "text/plain": [
              "(683, 9)"
            ]
          },
          "metadata": {},
          "execution_count": 2
        }
      ]
    },
    {
      "cell_type": "markdown",
      "metadata": {
        "id": "3sBf4NvBlYH6"
      },
      "source": [
        "**To do:**\n",
        "\n",
        "Now use logistic regression to build a model to predict either malignant or benign. In fact, I would like you to build a number of logistic regression models where you *vary the size of the training data* and where you *vary the complexity parameter setting*. In all cases use whatever data you have excluded from training as a test set, and compute the score.\n",
        "\n",
        "Check that training on more data increases predictive accuracy and compare the performance of different complexity parameter settings on smaller training sets."
      ]
    },
    {
      "cell_type": "markdown",
      "metadata": {
        "id": "DdXeG5YmCk5H"
      },
      "source": [
        "##Logistic Regression in PyTorch\n",
        "\n",
        "Below is a straightforward re-implementation of logistic regression in PyTorch. Nearly all of this should now be very familiar to you. We put our logistic regression model in a superclass of `torch.nn.Module`. The model itself consists of a linear layer mapping 9 input features to 1 output. This is then passed through a sigmoid layer so that the model outputs probability of one of the two classes. Since we are doing binary cross entropy loss, we use `torch.nn.BCELoss` as our loss function (note: the sigmoid is applied inside the model so we don't use the version of the loss function that combines sigmoid and BCE - but this would be a perfectly valid alternative). We train as normal and evaluate on the test set. But this time, we threshold the output probabilities to make our final hard class decisions and compute the percent correct.\n",
        "\n",
        "**To do:**\n",
        "\n",
        "Read and understand this code block. Run it. Print out the shapes of the tensors as they pass through the `logisticRegression` model (all tensors have a `shape` attribute). Make sure the shapes corresponds with your understanding of what each layer is doing. Try changing the training set size, number of training iterations and learning rate and see the effect."
      ]
    },
    {
      "cell_type": "code",
      "metadata": {
        "id": "5Ne9-ddWCpP3",
        "outputId": "0fdb113e-80fc-4519-c447-924b19797c58",
        "colab": {
          "base_uri": "https://localhost:8080/"
        }
      },
      "source": [
        "import torch\n",
        "\n",
        "class logisticRegression(torch.nn.Module):\n",
        "    def __init__(self, inputSize):\n",
        "        # Call superclass constructor\n",
        "        super(logisticRegression, self).__init__()\n",
        "        # Initialise components of model:\n",
        "        # 1. Linear layer\n",
        "        self.linear = torch.nn.Linear(inputSize, 1)\n",
        "        # 2. Sigmoid layer\n",
        "        self.sigmoid = torch.nn.Sigmoid()\n",
        "\n",
        "    def forward(self, x):\n",
        "        # Forward pass through the model:\n",
        "        # 1. Apply linear layer to input\n",
        "        y = self.linear(x)\n",
        "        # 2. Apply sigmoid to output of linear layer\n",
        "        y = self.sigmoid(y)\n",
        "        return y\n",
        "\n",
        "# Instantiate model logistic regression model 9 channel input\n",
        "model = logisticRegression(9)\n",
        "# Instantiate loss function (binary cross entropy loss - sigmoid applied inside model)\n",
        "criterion = torch.nn.BCELoss()\n",
        "# Setup optimiser\n",
        "optim = torch.optim.SGD(model.parameters(), lr=0.1)\n",
        "\n",
        "training_size = 400\n",
        "epochs = 100\n",
        "\n",
        "# Convert labels to binary 0/1 classes as expected by PyTorch\n",
        "y_01 = np.array([0 if x==2 else 1 for x in data[:,-1]])\n",
        "\n",
        "# Split train/test and convert to PyTorch tensors\n",
        "X_train_tensor = torch.from_numpy(np.float32(X[:training_size]))\n",
        "Y_train_tensor = torch.from_numpy(np.float32(y_01[:training_size])).unsqueeze(1)\n",
        "X_test_tensor = torch.from_numpy(np.float32(X[training_size:]))\n",
        "Y_test_tensor = torch.from_numpy(np.float32(y_01[training_size:])).unsqueeze(1)\n",
        "\n",
        "# Main training loop\n",
        "for epoch in range(epochs):\n",
        "    # Pass training data through model\n",
        "    y_predict = model(X_train_tensor)\n",
        "    print(f\"Epoch {epoch}: y_predict shape = {y_predict.shape}\")\n",
        "    # Compute BCE loss\n",
        "    loss = criterion(y_predict,Y_train_tensor)\n",
        "    # Backward pass and gradient step\n",
        "    optim.zero_grad()\n",
        "    loss.backward()\n",
        "    optim.step()\n",
        "    if not epoch % 10:\n",
        "        # Print out the loss every 200 iterations\n",
        "        print('epoch {}, loss {}'.format(epoch, loss.item()))\n",
        "\n",
        "# Pass training set set through model\n",
        "y_predict = model(X_train_tensor)\n",
        "# Threshold probabilities to binary classes\n",
        "predictions = (y_predict>0.5).float()\n",
        "# Compare predicted classes to labels\n",
        "correct = (predictions == Y_train_tensor).float().sum()\n",
        "print(\"Percent training set correctly classified: {:.2f}%\".format(100*correct/training_size))\n",
        "\n",
        "# Pass test set through model\n",
        "y_predict = model(X_test_tensor)\n",
        "# Threshold probabilities to binary classes\n",
        "predictions = (y_predict>0.5).float()\n",
        "# Compare predicted classes to labels\n",
        "correct = (predictions == Y_test_tensor).float().sum()\n",
        "print(\"Percent test set correctly classified: {:.2f}%\".format(100*correct/X_test_tensor.shape[0]))"
      ],
      "execution_count": 5,
      "outputs": [
        {
          "output_type": "stream",
          "name": "stdout",
          "text": [
            "Epoch 0: y_predict shape = torch.Size([400, 1])\n",
            "epoch 0, loss 1.9602806568145752\n",
            "Epoch 1: y_predict shape = torch.Size([400, 1])\n",
            "Epoch 2: y_predict shape = torch.Size([400, 1])\n",
            "Epoch 3: y_predict shape = torch.Size([400, 1])\n",
            "Epoch 4: y_predict shape = torch.Size([400, 1])\n",
            "Epoch 5: y_predict shape = torch.Size([400, 1])\n",
            "Epoch 6: y_predict shape = torch.Size([400, 1])\n",
            "Epoch 7: y_predict shape = torch.Size([400, 1])\n",
            "Epoch 8: y_predict shape = torch.Size([400, 1])\n",
            "Epoch 9: y_predict shape = torch.Size([400, 1])\n",
            "Epoch 10: y_predict shape = torch.Size([400, 1])\n",
            "epoch 10, loss 0.5802050828933716\n",
            "Epoch 11: y_predict shape = torch.Size([400, 1])\n",
            "Epoch 12: y_predict shape = torch.Size([400, 1])\n",
            "Epoch 13: y_predict shape = torch.Size([400, 1])\n",
            "Epoch 14: y_predict shape = torch.Size([400, 1])\n",
            "Epoch 15: y_predict shape = torch.Size([400, 1])\n",
            "Epoch 16: y_predict shape = torch.Size([400, 1])\n",
            "Epoch 17: y_predict shape = torch.Size([400, 1])\n",
            "Epoch 18: y_predict shape = torch.Size([400, 1])\n",
            "Epoch 19: y_predict shape = torch.Size([400, 1])\n",
            "Epoch 20: y_predict shape = torch.Size([400, 1])\n",
            "epoch 20, loss 0.42529013752937317\n",
            "Epoch 21: y_predict shape = torch.Size([400, 1])\n",
            "Epoch 22: y_predict shape = torch.Size([400, 1])\n",
            "Epoch 23: y_predict shape = torch.Size([400, 1])\n",
            "Epoch 24: y_predict shape = torch.Size([400, 1])\n",
            "Epoch 25: y_predict shape = torch.Size([400, 1])\n",
            "Epoch 26: y_predict shape = torch.Size([400, 1])\n",
            "Epoch 27: y_predict shape = torch.Size([400, 1])\n",
            "Epoch 28: y_predict shape = torch.Size([400, 1])\n",
            "Epoch 29: y_predict shape = torch.Size([400, 1])\n",
            "Epoch 30: y_predict shape = torch.Size([400, 1])\n",
            "epoch 30, loss 0.38159674406051636\n",
            "Epoch 31: y_predict shape = torch.Size([400, 1])\n",
            "Epoch 32: y_predict shape = torch.Size([400, 1])\n",
            "Epoch 33: y_predict shape = torch.Size([400, 1])\n",
            "Epoch 34: y_predict shape = torch.Size([400, 1])\n",
            "Epoch 35: y_predict shape = torch.Size([400, 1])\n",
            "Epoch 36: y_predict shape = torch.Size([400, 1])\n",
            "Epoch 37: y_predict shape = torch.Size([400, 1])\n",
            "Epoch 38: y_predict shape = torch.Size([400, 1])\n",
            "Epoch 39: y_predict shape = torch.Size([400, 1])\n",
            "Epoch 40: y_predict shape = torch.Size([400, 1])\n",
            "epoch 40, loss 0.3563004434108734\n",
            "Epoch 41: y_predict shape = torch.Size([400, 1])\n",
            "Epoch 42: y_predict shape = torch.Size([400, 1])\n",
            "Epoch 43: y_predict shape = torch.Size([400, 1])\n",
            "Epoch 44: y_predict shape = torch.Size([400, 1])\n",
            "Epoch 45: y_predict shape = torch.Size([400, 1])\n",
            "Epoch 46: y_predict shape = torch.Size([400, 1])\n",
            "Epoch 47: y_predict shape = torch.Size([400, 1])\n",
            "Epoch 48: y_predict shape = torch.Size([400, 1])\n",
            "Epoch 49: y_predict shape = torch.Size([400, 1])\n",
            "Epoch 50: y_predict shape = torch.Size([400, 1])\n",
            "epoch 50, loss 0.3383997976779938\n",
            "Epoch 51: y_predict shape = torch.Size([400, 1])\n",
            "Epoch 52: y_predict shape = torch.Size([400, 1])\n",
            "Epoch 53: y_predict shape = torch.Size([400, 1])\n",
            "Epoch 54: y_predict shape = torch.Size([400, 1])\n",
            "Epoch 55: y_predict shape = torch.Size([400, 1])\n",
            "Epoch 56: y_predict shape = torch.Size([400, 1])\n",
            "Epoch 57: y_predict shape = torch.Size([400, 1])\n",
            "Epoch 58: y_predict shape = torch.Size([400, 1])\n",
            "Epoch 59: y_predict shape = torch.Size([400, 1])\n",
            "Epoch 60: y_predict shape = torch.Size([400, 1])\n",
            "epoch 60, loss 0.3245178163051605\n",
            "Epoch 61: y_predict shape = torch.Size([400, 1])\n",
            "Epoch 62: y_predict shape = torch.Size([400, 1])\n",
            "Epoch 63: y_predict shape = torch.Size([400, 1])\n",
            "Epoch 64: y_predict shape = torch.Size([400, 1])\n",
            "Epoch 65: y_predict shape = torch.Size([400, 1])\n",
            "Epoch 66: y_predict shape = torch.Size([400, 1])\n",
            "Epoch 67: y_predict shape = torch.Size([400, 1])\n",
            "Epoch 68: y_predict shape = torch.Size([400, 1])\n",
            "Epoch 69: y_predict shape = torch.Size([400, 1])\n",
            "Epoch 70: y_predict shape = torch.Size([400, 1])\n",
            "epoch 70, loss 0.31310713291168213\n",
            "Epoch 71: y_predict shape = torch.Size([400, 1])\n",
            "Epoch 72: y_predict shape = torch.Size([400, 1])\n",
            "Epoch 73: y_predict shape = torch.Size([400, 1])\n",
            "Epoch 74: y_predict shape = torch.Size([400, 1])\n",
            "Epoch 75: y_predict shape = torch.Size([400, 1])\n",
            "Epoch 76: y_predict shape = torch.Size([400, 1])\n",
            "Epoch 77: y_predict shape = torch.Size([400, 1])\n",
            "Epoch 78: y_predict shape = torch.Size([400, 1])\n",
            "Epoch 79: y_predict shape = torch.Size([400, 1])\n",
            "Epoch 80: y_predict shape = torch.Size([400, 1])\n",
            "epoch 80, loss 0.30335676670074463\n",
            "Epoch 81: y_predict shape = torch.Size([400, 1])\n",
            "Epoch 82: y_predict shape = torch.Size([400, 1])\n",
            "Epoch 83: y_predict shape = torch.Size([400, 1])\n",
            "Epoch 84: y_predict shape = torch.Size([400, 1])\n",
            "Epoch 85: y_predict shape = torch.Size([400, 1])\n",
            "Epoch 86: y_predict shape = torch.Size([400, 1])\n",
            "Epoch 87: y_predict shape = torch.Size([400, 1])\n",
            "Epoch 88: y_predict shape = torch.Size([400, 1])\n",
            "Epoch 89: y_predict shape = torch.Size([400, 1])\n",
            "Epoch 90: y_predict shape = torch.Size([400, 1])\n",
            "epoch 90, loss 0.29479825496673584\n",
            "Epoch 91: y_predict shape = torch.Size([400, 1])\n",
            "Epoch 92: y_predict shape = torch.Size([400, 1])\n",
            "Epoch 93: y_predict shape = torch.Size([400, 1])\n",
            "Epoch 94: y_predict shape = torch.Size([400, 1])\n",
            "Epoch 95: y_predict shape = torch.Size([400, 1])\n",
            "Epoch 96: y_predict shape = torch.Size([400, 1])\n",
            "Epoch 97: y_predict shape = torch.Size([400, 1])\n",
            "Epoch 98: y_predict shape = torch.Size([400, 1])\n",
            "Epoch 99: y_predict shape = torch.Size([400, 1])\n",
            "Percent training set correctly classified: 92.75%\n",
            "Percent test set correctly classified: 92.23%\n"
          ]
        }
      ]
    },
    {
      "cell_type": "markdown",
      "source": [
        "##MLP in PyTorch\n",
        "\n",
        "**To do:**\n",
        "\n",
        "I would now like you to extend the logistic regression model to a very basic MLP. This MLP should have one hidden layer with 16 nodes and ReLU activation, then an output layer with sigmoid activation (to output the class probability). To do this, replace the logisticRegression class with an MLP model that includes the additional layers (note: this is only a small modification of the logistic regression model).\n",
        "\n",
        "What happens to the training loss and classification accuracy? How about testing? (i.e. generalisation). How many parameters does your model have in total? Experiment with using different numbers of neurons in the hidden layer. What happens to performance and generalisation? Keep in mind how many parameters your model has and how many training samples you have. Try adding a second hidden layer and again, experiment with the effect on performance.\n",
        "\n",
        "**Optional Extention**\n",
        "\n",
        "Revisit the diabetes dataset from the Week 3 practical. Try replacing linear regression with an MLP. In this case, you won't be doing classification so won't want the sigmoid activation on the output. Also, you won't use BCE loss. Can you improve performance relative to linear regression?"
      ],
      "metadata": {
        "id": "6DRhDrcnqdeB"
      }
    },
    {
      "cell_type": "code",
      "source": [
        "class MLP(torch.nn.Module):\n",
        "    def __init__(self, inputSize):\n",
        "        super(MLP, self).__init__()\n",
        "        self.fc1 = torch.nn.Linear(inputSize, 64)\n",
        "        self.fc2 = torch.nn.Linear(64, 64)\n",
        "        self.fc3 = torch.nn.Linear(64, 1)\n",
        "        self.reLU = torch.nn.ReLU()\n",
        "        self.sigmoid = torch.nn.Sigmoid()\n",
        "\n",
        "    def forward(self, x):\n",
        "        y = self.fc1(x)\n",
        "        y = self.reLU(y)\n",
        "        y = self.fc2(y)\n",
        "        y = self.reLU(y)\n",
        "        y = self.fc3(y)\n",
        "        y = self.sigmoid(y)\n",
        "        return y"
      ],
      "metadata": {
        "id": "V3_jk70DqwFH"
      },
      "execution_count": 6,
      "outputs": []
    },
    {
      "cell_type": "code",
      "source": [
        "# Instantiate model logistic regression model 9 channel input\n",
        "model = MLP(9)\n",
        "# Instantiate loss function (binary cross entropy loss - sigmoid applied inside model)\n",
        "criterion = torch.nn.BCELoss()\n",
        "# Setup optimiser\n",
        "optim = torch.optim.SGD(model.parameters(), lr=0.65)\n",
        "\n",
        "training_size = 400\n",
        "epochs = 100\n",
        "\n",
        "# Convert labels to binary 0/1 classes as expected by PyTorch\n",
        "y_01 = np.array([0 if x == 2 else 1 for x in data[:, -1]])\n",
        "\n",
        "# Split train/test and convert to PyTorch tensors\n",
        "X_train_tensor = torch.from_numpy(np.float32(X[:training_size]))\n",
        "Y_train_tensor = torch.from_numpy(np.float32(y_01[:training_size])).unsqueeze(1)\n",
        "X_test_tensor = torch.from_numpy(np.float32(X[training_size:]))\n",
        "Y_test_tensor = torch.from_numpy(np.float32(y_01[training_size:])).unsqueeze(1)\n",
        "\n",
        "# Main training loop\n",
        "for epoch in range(epochs):\n",
        "    # Pass training data through model\n",
        "    y_predict = model(X_train_tensor)\n",
        "    # Compute BCE loss\n",
        "    loss = criterion(y_predict, Y_train_tensor)\n",
        "    # Backward pass and gradient step\n",
        "    optim.zero_grad()\n",
        "    loss.backward()\n",
        "    optim.step()\n",
        "    if not epoch % 10:\n",
        "        # Print out the loss every 200 iterations\n",
        "        print(\"epoch {}, loss {}\".format(epoch, loss.item()))\n",
        "\n",
        "# Pass training set set through model\n",
        "y_predict = model(X_train_tensor)\n",
        "# Threshold probabilities to binary classes\n",
        "predictions = (y_predict > 0.5).float()\n",
        "# Compare predicted classes to labels\n",
        "correct = (predictions == Y_train_tensor).float().sum()\n",
        "print(\n",
        "    \"Percent training set correctly classified: {:.2f}%\".format(\n",
        "        100 * correct / training_size\n",
        "    )\n",
        ")\n",
        "\n",
        "# Pass test set through model\n",
        "y_predict = model(X_test_tensor)\n",
        "# Threshold probabilities to binary classes\n",
        "predictions = (y_predict > 0.5).float()\n",
        "# Compare predicted classes to labels\n",
        "correct = (predictions == Y_test_tensor).float().sum()\n",
        "print(\n",
        "    \"Percent test set correctly classified: {:.2f}%\".format(\n",
        "        100 * correct / X_test_tensor.shape[0]\n",
        "    )\n",
        ")"
      ],
      "metadata": {
        "colab": {
          "base_uri": "https://localhost:8080/"
        },
        "id": "XuMfXQdAqx8X",
        "outputId": "08dfa86e-81c9-407c-b2cd-a51f3cdd99dd"
      },
      "execution_count": 7,
      "outputs": [
        {
          "output_type": "stream",
          "name": "stdout",
          "text": [
            "epoch 0, loss 0.6903680562973022\n",
            "epoch 10, loss 0.7441874146461487\n",
            "epoch 20, loss 0.42092305421829224\n",
            "epoch 30, loss 0.24725504219532013\n",
            "epoch 40, loss 0.3616285026073456\n",
            "epoch 50, loss 0.15881195664405823\n",
            "epoch 60, loss 0.1622162014245987\n",
            "epoch 70, loss 0.15792058408260345\n",
            "epoch 80, loss 0.11028960347175598\n",
            "epoch 90, loss 0.2540406286716461\n",
            "Percent training set correctly classified: 97.00%\n",
            "Percent test set correctly classified: 97.88%\n"
          ]
        }
      ]
    },
    {
      "cell_type": "code",
      "source": [
        "class MLP(torch.nn.Module):\n",
        "    def __init__(self, inputSize):\n",
        "        super(MLP, self).__init__()\n",
        "        self.fc1 = torch.nn.Linear(inputSize, 64)\n",
        "        self.fc2 = torch.nn.Linear(64, 64)\n",
        "        self.fc3 = torch.nn.Linear(64, 1)\n",
        "        self.reLU = torch.nn.ReLU()\n",
        "        self.sigmoid = torch.nn.Sigmoid()\n",
        "\n",
        "    def forward(self, x):\n",
        "        y = self.fc1(x)\n",
        "        y = self.reLU(y)\n",
        "        y = self.fc2(y)\n",
        "        y = self.reLU(y)\n",
        "        y = self.fc3(y)\n",
        "        # y = self.sigmoid(y)\n",
        "        return y"
      ],
      "metadata": {
        "id": "4hOA6IWGq1zX"
      },
      "execution_count": 8,
      "outputs": []
    },
    {
      "cell_type": "code",
      "source": [
        "from sklearn.datasets import fetch_california_housing\n",
        "from sklearn.model_selection import train_test_split\n",
        "\n",
        "(X, y) = fetch_california_housing(return_X_y=True, as_frame=True)\n",
        "X_train, X_test, y_train, y_test = train_test_split(X, y)"
      ],
      "metadata": {
        "id": "po4_OJf2q4hN"
      },
      "execution_count": 9,
      "outputs": []
    },
    {
      "cell_type": "code",
      "source": [
        "\n",
        "model = MLP(8)\n",
        "criterion = torch.nn.MSELoss()\n",
        "\n",
        "optim = torch.optim.SGD(model.parameters(), lr=0.0000019, momentum=0.9)\n",
        "\n",
        "epochs = 300\n",
        "\n",
        "# Split train/test and convert to PyTorch tensors\n",
        "X_train_tensor = torch.from_numpy(np.float32(X_train))\n",
        "Y_train_tensor = torch.from_numpy(np.float32(y_train)).unsqueeze(1)\n",
        "X_test_tensor = torch.from_numpy(np.float32(X_test))\n",
        "Y_test_tensor = torch.from_numpy(np.float32(y_test)).unsqueeze(1)\n",
        "\n",
        "# Main training loop\n",
        "for epoch in range(epochs + 1):\n",
        "    # Pass training data through model\n",
        "    y_predict = model(X_train_tensor)\n",
        "    # Compute BCE loss\n",
        "    loss = criterion(y_predict, Y_train_tensor)\n",
        "    # Backward pass and gradient step\n",
        "    optim.zero_grad()\n",
        "    loss.backward()\n",
        "    optim.step()\n",
        "    if not epoch % 100:\n",
        "        # Print out the loss every 200 iterations\n",
        "        print(\"epoch {}, loss {}\".format(epoch, loss.item()))"
      ],
      "metadata": {
        "colab": {
          "base_uri": "https://localhost:8080/"
        },
        "id": "e1ID6_1sq6hP",
        "outputId": "631256cb-1819-4404-f2ab-9cf75d17bde0"
      },
      "execution_count": 10,
      "outputs": [
        {
          "output_type": "stream",
          "name": "stdout",
          "text": [
            "epoch 0, loss 5118.83251953125\n",
            "epoch 100, loss 1.369065284729004\n",
            "epoch 200, loss 1.3338567018508911\n",
            "epoch 300, loss 1.3224562406539917\n"
          ]
        }
      ]
    },
    {
      "cell_type": "code",
      "source": [
        "print(criterion(model(X_test_tensor), Y_test_tensor))"
      ],
      "metadata": {
        "colab": {
          "base_uri": "https://localhost:8080/"
        },
        "id": "xygF3348q-qn",
        "outputId": "77744c4f-80f3-4db5-86da-ff06657014f8"
      },
      "execution_count": 11,
      "outputs": [
        {
          "output_type": "stream",
          "name": "stdout",
          "text": [
            "tensor(1.3408, grad_fn=<MseLossBackward0>)\n"
          ]
        }
      ]
    }
  ]
}