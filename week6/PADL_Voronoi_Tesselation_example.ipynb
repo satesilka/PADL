{
  "nbformat": 4,
  "nbformat_minor": 0,
  "metadata": {
    "colab": {
      "provenance": []
    },
    "kernelspec": {
      "name": "python3",
      "display_name": "Python 3"
    },
    "language_info": {
      "name": "python"
    }
  },
  "cells": [
    {
      "cell_type": "markdown",
      "source": [
        "## Voronoi Tesselation Example\n",
        "\n",
        "* Divides the space into areas according to the nearest neighbour in the dataset.\n",
        "\n",
        "* Can be seen as a classifier algorithm.\n",
        "\n",
        "\n",
        "(Source: https://tinyurl.com/4nkecdze)\n",
        "\n",
        "\n"
      ],
      "metadata": {
        "id": "dMc1e55TsBLv"
      }
    },
    {
      "cell_type": "code",
      "source": [
        "# Much of the fuss in the code is to colour in correctly the\n",
        "# polygons at the edges of the plot (not essential to the\n",
        "# main idea).\n",
        "\n",
        "import numpy as np\n",
        "import matplotlib.pyplot as plt\n",
        "from scipy.spatial import Voronoi\n",
        "\n",
        "def voronoi_finite_polygons_2d(vor, radius=None):\n",
        "    \"\"\"\n",
        "    Reconstruct infinite voronoi regions in a 2D diagram to finite\n",
        "    regions.\n",
        "\n",
        "    Parameters\n",
        "    ----------\n",
        "    vor : Voronoi\n",
        "        Input diagram\n",
        "    radius : float, optional\n",
        "        Distance to 'points at infinity'.\n",
        "\n",
        "    Returns\n",
        "    -------\n",
        "    regions : list of tuples\n",
        "        Indices of vertices in each revised Voronoi regions.\n",
        "    vertices : list of tuples\n",
        "        Coordinates for revised Voronoi vertices. Same as coordinates\n",
        "        of input vertices, with 'points at infinity' appended to the\n",
        "        end.\n",
        "\n",
        "    \"\"\"\n",
        "\n",
        "    if vor.points.shape[1] != 2:\n",
        "        raise ValueError(\"Requires 2D input\")\n",
        "\n",
        "    new_regions = []\n",
        "    new_vertices = vor.vertices.tolist()\n",
        "\n",
        "    center = vor.points.mean(axis=0)\n",
        "    if radius is None:\n",
        "        radius = vor.points.ptp().max()\n",
        "\n",
        "    # Construct a map containing all ridges for a given point\n",
        "    all_ridges = {}\n",
        "    for (p1, p2), (v1, v2) in zip(vor.ridge_points, vor.ridge_vertices):\n",
        "        all_ridges.setdefault(p1, []).append((p2, v1, v2))\n",
        "        all_ridges.setdefault(p2, []).append((p1, v1, v2))\n",
        "\n",
        "    # Reconstruct infinite regions\n",
        "    for p1, region in enumerate(vor.point_region):\n",
        "        vertices = vor.regions[region]\n",
        "\n",
        "        if all(v >= 0 for v in vertices):\n",
        "            # finite region\n",
        "            new_regions.append(vertices)\n",
        "            continue\n",
        "\n",
        "        # reconstruct a non-finite region\n",
        "        ridges = all_ridges[p1]\n",
        "        new_region = [v for v in vertices if v >= 0]\n",
        "\n",
        "        for p2, v1, v2 in ridges:\n",
        "            if v2 < 0:\n",
        "                v1, v2 = v2, v1\n",
        "            if v1 >= 0:\n",
        "                # finite ridge: already in the region\n",
        "                continue\n",
        "\n",
        "            # Compute the missing endpoint of an infinite ridge\n",
        "\n",
        "            t = vor.points[p2] - vor.points[p1] # tangent\n",
        "            t /= np.linalg.norm(t)\n",
        "            n = np.array([-t[1], t[0]])  # normal\n",
        "\n",
        "            midpoint = vor.points[[p1, p2]].mean(axis=0)\n",
        "            direction = np.sign(np.dot(midpoint - center, n)) * n\n",
        "            far_point = vor.vertices[v2] + direction * radius\n",
        "\n",
        "            new_region.append(len(new_vertices))\n",
        "            new_vertices.append(far_point.tolist())\n",
        "\n",
        "        # sort region counterclockwise\n",
        "        vs = np.asarray([new_vertices[v] for v in new_region])\n",
        "        c = vs.mean(axis=0)\n",
        "        angles = np.arctan2(vs[:,1] - c[1], vs[:,0] - c[0])\n",
        "        new_region = np.array(new_region)[np.argsort(angles)]\n",
        "\n",
        "        # finish\n",
        "        new_regions.append(new_region.tolist())\n",
        "\n",
        "    return new_regions, np.asarray(new_vertices)\n",
        "\n",
        "# make up data points\n",
        "np.random.seed(29)\n",
        "points = np.random.rand(8, 2)\n",
        "\n",
        "# compute Voronoi tesselation\n",
        "vor = Voronoi(points)\n",
        "\n",
        "# plot\n",
        "regions, vertices = voronoi_finite_polygons_2d(vor)\n",
        "print(\"--\")\n",
        "print(regions)\n",
        "print(\"--\")\n",
        "print(vertices)\n",
        "\n",
        "# colorize\n",
        "for region in regions:\n",
        "    polygon = vertices[region]\n",
        "    plt.fill(*zip(*polygon), alpha=0.9)\n",
        "\n",
        "plt.plot(points[:,0], points[:,1], 'ko')\n",
        "plt.xlim(vor.min_bound[0] - 0.1, vor.max_bound[0] + 0.1)\n",
        "plt.ylim(vor.min_bound[1] - 0.1, vor.max_bound[1] + 0.1)\n",
        "\n",
        "plt.show()"
      ],
      "metadata": {
        "colab": {
          "base_uri": "https://localhost:8080/",
          "height": 861
        },
        "id": "g5DfJHHnoD90",
        "outputId": "dbd1142d-0755-4ab5-8a0c-65142da62499"
      },
      "execution_count": 2,
      "outputs": [
        {
          "output_type": "stream",
          "name": "stdout",
          "text": [
            "--\n",
            "[[9, 8, 2], [10, 6, 4, 11], [7, 0, 3, 1, 5], [5, 1, 12, 13, 4], [3, 2, 15, 14, 1], [7, 5, 4, 6], [16, 0, 7, 6, 17], [19, 18, 2, 3, 0]]\n",
            "--\n",
            "[[ 0.32056827  0.28265913]\n",
            " [ 0.55870827  0.72326812]\n",
            " [ 0.71241216  0.48694518]\n",
            " [ 0.69898894  0.49137603]\n",
            " [ 0.32309851  1.39217888]\n",
            " [ 0.48252841  0.79132544]\n",
            " [ 0.11755082  0.58427596]\n",
            " [ 0.24432872  0.50934165]\n",
            " [ 1.50009361  0.65487134]\n",
            " [ 0.80406903 -0.31320499]\n",
            " [-0.68711966  0.61813861]\n",
            " [ 0.21839682  2.19072682]\n",
            " [ 1.31671178  0.99542973]\n",
            " [ 0.21839682  2.19072682]\n",
            " [ 1.31671178  0.99542973]\n",
            " [ 1.50009361  0.65487134]\n",
            " [ 0.10457073 -0.49321865]\n",
            " [-0.68711966  0.61813861]\n",
            " [ 0.80406903 -0.31320499]\n",
            " [ 0.10457073 -0.49321865]]\n"
          ]
        },
        {
          "output_type": "display_data",
          "data": {
            "text/plain": [
              "<Figure size 640x480 with 1 Axes>"
            ],
            "image/png": "[encoded data removed]"
          },
          "metadata": {}
        }
      ]
    },
    {
      "cell_type": "code",
      "execution_count": null,
      "metadata": {
        "id": "BHfCeFktl2w6"
      },
      "outputs": [],
      "source": []
    }
  ]
}